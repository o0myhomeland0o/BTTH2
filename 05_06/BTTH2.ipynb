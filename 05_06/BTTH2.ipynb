{
 "cells": [
  {
   "cell_type": "code",
   "execution_count": null,
   "id": "d8b75ead",
   "metadata": {},
   "outputs": [],
   "source": [
    "with open('facebook_account.txt', 'r') as f:\n",
    "    lines = f.readlines()\n",
    "    email = lines[0].strip()\n",
    "    password = lines[1].strip()\n",
    "\n"
   ]
  },
  {
   "cell_type": "code",
   "execution_count": null,
   "id": "f21973d1",
   "metadata": {},
   "outputs": [],
   "source": [
    "with open('post_content.txt', 'r') as f:\n",
    "    post= f.read().strip()"
   ]
  },
  {
   "cell_type": "code",
   "execution_count": null,
   "id": "ce490fca",
   "metadata": {},
   "outputs": [
    {
     "name": "stdout",
     "output_type": "stream",
     "text": [
      "✅ Đăng bài thành công!\n"
     ]
    }
   ],
   "source": [
    "import requests\n",
    "\n",
    "ACCESS_TOKEN = \"EAAW9pbxyJlEBO8BjyMQZCDecXZCWoCZAGGvrdF6vq0Hg3d7ZAAwLs0UwQ4AZBY4oemaftuoPum5n5SE2U4PuiQUoSEva2f6qqMfBXODBAJubdNwNBLgpzpcxbG6Vi4zxjdNFowNjgU6vpxNFmTrXHnPfty5bYU5WaXnqcjQaYa4Sfx8pHBjQZC3DZAjCUO0Feqod4FxviJNiSl1X4aZBQF8mCIZBH\"\n",
    "PAGE_ID = \"614180475118778\"  \n",
    "MESSAGE = \"Bài thực hành của Phạm Duy Tiến Minh\"\n",
    "\n",
    "url = f\"https://graph.facebook.com/v22.0/{PAGE_ID}/feed\"\n",
    "payload = {\n",
    "    \"message\": MESSAGE,\n",
    "    \"access_token\": ACCESS_TOKEN\n",
    "}\n",
    "\n",
    "response = requests.post(url, data=payload)\n",
    "\n",
    "if response.status_code == 200:\n",
    "    print(\"Đăng bài thành công!\")\n",
    "else:\n",
    "    print(\"Lỗi:\", response.json())"
   ]
  }
 ],
 "metadata": {
  "kernelspec": {
   "display_name": "base",
   "language": "python",
   "name": "python3"
  },
  "language_info": {
   "codemirror_mode": {
    "name": "ipython",
    "version": 3
   },
   "file_extension": ".py",
   "mimetype": "text/x-python",
   "name": "python",
   "nbconvert_exporter": "python",
   "pygments_lexer": "ipython3",
   "version": "3.12.7"
  }
 },
 "nbformat": 4,
 "nbformat_minor": 5
}
